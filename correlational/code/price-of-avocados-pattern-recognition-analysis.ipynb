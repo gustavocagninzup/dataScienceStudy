{
 "cells": [
  {
   "cell_type": "markdown",
   "metadata": {
    "_uuid": "561fa0d741b8446a8fce31266d1aebc781f963c6"
   },
   "source": [
    "<h1 align=\"center\"> <b> Avocado Prices: Pattern Recognition Analysis</b></h1>\n",
    "<img src=\"https://cdn-images-1.medium.com/max/1600/1*opzxrBna63YDbd8_pM5trw.png\" width=800 height=600><br>\n",
    "Source: https://cdn-images-1.medium.com/max/1600/1*opzxrBna63YDbd8_pM5trw.png\n",
    "\n",
    "<h3> A Note to my fellow Kagglers: </h3>\n",
    "As in previous projects, I start to publish my kernels from the beginning. Why? well I am always open to feedback from the community and it makes it more interesting for me to receive feedback from the community while I am working on this project. This explains my methodology of publishing my projects before they are done. Nevertheless, updates will come throughout the following months but remember I am still balancing my time due to school, external projects and other extra-curricular activites. I will try to make interesting updates as I learn more in detail everything with regards to time series forecasting using R. I am new in this topic especially when it comes to using R as my tool for analysis. I am excited to share all the things I learn with regards to time series forecasting with the community. Thanks to the community for always providing me with support and positive feedback. Let's begin!\n",
    "\n",
    "In this kernel I will explore everyhting related to time series forecasting using R. I will be updating this kernel as time goes by because I want to learn as much as possible how the time series libraries work using R and to know all its component. This project will be extensive but really useful fr the community to learn about all the different parametersthat compose the time series forecasting. I hope you enjoy this journey no one said it was going to be easy but the hard work will reward both the community and myself. Wait for further updates! <br><br>\n",
    "\n",
    "<h3>Reference: </h3>\n",
    "<ul>\n",
    "    <li>Forecasting: Principles and Practice by Rob J Hyndman and George Athanasopoulos</li>\n",
    "</ul>\n",
    "\n",
    "<h3>Terms to Know: </h3>\n",
    "<ul>\n",
    "    <li><b>Explanatory model:</b> Is a model that adds variables into our model not only based on past historical prices (in this case Avocados prices), but uses other variables to make accurate predictions. </li>\n",
    "    <li><b>Time Series Model: </b> is a model that only uses past information (in this case past avocado prices) to make accurate predictions. </li>\n",
    "    </ul>\n",
    "    \n",
    "<h3>Steps for our Forecasting Project: </h3>\n",
    "<ul>\n",
    "    <li><b>Determine what is the problem:</b> In this case we want to have accurate forecast of Avocado prices. </li>\n",
    "    <li><b>Gathering Information: </b> Understand what was the process that was used to gather the information and if the information is sufficient to have effective predictive models. </li>\n",
    "    <li><b>Implementing Exploratory Analysis: </b> Determine if there are any sort of patterns in our data before going into building the models. </li>\n",
    "    <li><b>Choosing predictive models: </b> This is the phase were we decide which model is the most appropiate to make our forecasting most effective.  </li>\n",
    "    <li><b>Testing our model: </b> Analyze if our model is effective enough to make effective predictions. </li>\n",
    "    </ul>\n",
    "    \n",
    "    \n",
    "<h4>Outline:</h4>\n",
    "I. <b>Introduction</b> <br>\n",
    "a. [Exploratory Data Analysis](#eda)<br>\n",
    "b. [Type of Avocados](#type)<br>\n",
    "c. [Relationship between priceand volume](#rel)<br><br>\n",
    "\n",
    "II. <b>Patterns: </b><br>\n",
    "a. [Types of Patterns](#pattern)<br>\n",
    "b. [Analyzing Seasonal Patterns](#analysis)<br>\n",
    "c. [Regional Analysis](#regional)<br><br>\n",
    "\n",
    "III. <b>Time Series Analysis </b><br>\n",
    "a. [Using the Autoplot library for Time Series](#autoplot)<br>\n",
    "b. [Seasonal Subseries Plot](#subseries)<br>\n",
    "c. [Stationary Subseries](#stationary)<br>\n",
    "d. [Autocorrelations](#autocorrelation)<br><br>\n",
    "\n",
    "\n",
    "IV. <b> Time Series Forecasting </b><br>:\n",
    "a. [Forecasting Methods](#methods)<br>\n",
    "b. [Naive and Drift Methods](#naive)<br>\n",
    "c. [Understanding Residuals](#residuals)<br>\n",
    "d. [Understanding ARIMA model](#ARIMA)<br><br>\n",
    "\n",
    "V. [Conclusion](#conclusion)"
   ]
  },
  {
   "cell_type": "code",
   "execution_count": null,
   "metadata": {
    "_execution_state": "idle",
    "_kg_hide-input": true,
    "_uuid": "74ab357e28a3d63131c6d222ad6cad747abb7669"
   },
   "outputs": [],
   "source": [
    "#  Import Packages\n",
    "if (!require(\"pacman\")) install.packages(\"evaluate\") \n",
    "pacman::p_load(tidyverse, skimr, GGally, plotly, viridis, caret, randomForest, e1071, rpart, \n",
    "               xgboost, h2o, corrplot, rpart.plot, corrgram, ggplot2, highcharter, \n",
    "               ggthemes, psych, scales, treemap, treemapify, repr, cowplot, magrittr, ggpubr,\n",
    "               RColorBrewer, plotrix, ggrepel, tidyverse, gridExtra, lubridate)\n",
    "options(warn=-1)\n",
    "suppressPackageStartupMessages(library(tidyverse))\n",
    "suppressPackageStartupMessages(library(skimr))\n",
    "suppressPackageStartupMessages(library(GGally))\n",
    "suppressPackageStartupMessages(library(viridis))\n",
    "suppressPackageStartupMessages(library(caret))\n",
    "suppressPackageStartupMessages(library(e1071))\n",
    "suppressPackageStartupMessages(library(rpart))\n",
    "suppressPackageStartupMessages(library(xgboost))\n",
    "suppressPackageStartupMessages(library(corrplot))\n",
    "suppressPackageStartupMessages(library(corrgram))\n",
    "suppressPackageStartupMessages(library(ggplot2))\n",
    "suppressPackageStartupMessages(library(ggthemes))\n",
    "suppressPackageStartupMessages(library(psych))\n",
    "suppressPackageStartupMessages(library(scales))\n",
    "suppressPackageStartupMessages(library(treemap))\n",
    "suppressPackageStartupMessages(library(repr))\n",
    "suppressPackageStartupMessages(library(cowplot))\n",
    "suppressPackageStartupMessages(library(magrittr))\n",
    "suppressPackageStartupMessages(library(ggpubr))\n",
    "suppressPackageStartupMessages(library(RColorBrewer))\n",
    "suppressPackageStartupMessages(library(plotrix))\n",
    "suppressPackageStartupMessages(library(ggrepel))\n",
    "suppressPackageStartupMessages(library(tidyverse))\n",
    "suppressPackageStartupMessages(library(gridExtra))\n",
    "suppressPackageStartupMessages(library(lubridate))\n",
    "suppressPackageStartupMessages(library(tibbletime))\n",
    "suppressPackageStartupMessages(library(reshape2))\n",
    "suppressPackageStartupMessages(library(tidyr))\n",
    "suppressPackageStartupMessages(library(ggpubr))\n",
    "suppressPackageStartupMessages(library(grid))\n",
    "suppressPackageStartupMessages(library(smooth))\n",
    "suppressPackageStartupMessages(library(forecast))\n",
    "suppressPackageStartupMessages(library(fpp2))\n",
    "options(scipen=5)\n",
    "\n",
    "\n",
    "list.files(path = \"../input\")"
   ]
  },
  {
   "cell_type": "code",
   "execution_count": null,
   "metadata": {
    "_kg_hide-input": true,
    "_uuid": "06df81ab9565474a4ecc63541e2bd53b763f775c"
   },
   "outputs": [],
   "source": [
    "df <- read.csv(\"../input/avocado.csv\")\n",
    "\n",
    "original_df <- df"
   ]
  },
  {
   "cell_type": "markdown",
   "metadata": {
    "_uuid": "725c3ab43a82b222e92a93b46d578f73961cf3bd"
   },
   "source": [
    "<h2>Exploratory Data Analysis: </h2>\n",
    "<a id=\"eda\"></a>\n",
    "In this phase of the project we will concentrate mainly on two aspects of the time series forecasting analysis hich consists of:\n",
    "<ul>\n",
    "    <li><b>Seasonal Patterns:</b> In this section we will focus on constant patterns that occur frequently from year to year and from month to month in both types of avocados conventional and organic.</li>\n",
    "    <li><b>Cyclical Patterns:</b> This section will require me to search deeper into what factors could have affected the price of avocados during those years (low supply, storms etc.) and will be interesting to see if any of those factors contributed to any significant price changes. </li>\n",
    "    \n",
    "</ul>"
   ]
  },
  {
   "cell_type": "code",
   "execution_count": null,
   "metadata": {
    "_uuid": "3f6f99a6ba165ec41190f470b26f21a29f63f487"
   },
   "outputs": [],
   "source": [
    "levels(df$type)"
   ]
  },
  {
   "cell_type": "code",
   "execution_count": null,
   "metadata": {
    "_kg_hide-input": true,
    "_uuid": "87b1e95774806863e6a73d652aba2c1522554594"
   },
   "outputs": [],
   "source": [
    "# Density plots of the different type of avocadoes.\n",
    "# ggplot(mammals, aes(x = sleep_total, fill = vore)) +\n",
    "#   geom_density(col = NA, alpha = 0.35, trim = TRUE)\n",
    "\n",
    "\n",
    "options(repr.plot.width=8, repr.plot.height=4)\n",
    "ggplot(df, aes(x=AveragePrice, fill=type)) + geom_density() + facet_wrap(~type) + theme_minimal() + \n",
    "theme(plot.title=element_text(hjust=0.5), legend.position=\"bottom\") + labs(title=\"Avocado Price by Type\") + scale_fill_brewer(palette=\"Set2\")"
   ]
  },
  {
   "cell_type": "code",
   "execution_count": null,
   "metadata": {
    "_kg_hide-input": true,
    "_uuid": "3b4fedfef2c6d04bb862f261a8d8a2533612d948"
   },
   "outputs": [],
   "source": [
    "vol_type <- df %>% group_by(type) %>% summarise(avg.vol=mean(Total.Volume))  %>% mutate(pct=prop.table(avg.vol) * 100) \n",
    "\n",
    "vol_type\n"
   ]
  },
  {
   "cell_type": "code",
   "execution_count": null,
   "metadata": {
    "_uuid": "2da1ed05042ce5cd227ac7bfc3c9c5fbe8bcf969"
   },
   "outputs": [],
   "source": [
    "# ggplot(df, aes(x = date, y = value)) + \n",
    "#   geom_line(aes(color = variable), size = 1) +\n",
    "#   scale_color_manual(values = c(\"#00AFBB\", \"#E7B800\")) +\n",
    "#   theme_minimal()"
   ]
  },
  {
   "cell_type": "markdown",
   "metadata": {
    "_uuid": "ac0e0a9561223650f22996923dafb673018f7682"
   },
   "source": [
    "<h2>Types of Avocados: </h2>\n",
    "<a id=\"type\"></a>\n",
    "In this section we will analyze the different types of avocados that we have in this dataset.\n",
    "Basically, we have two types of avocados:\n",
    "<ul>\n",
    "    <li><b>Conventional </b> </li>\n",
    "    <li><b>Organic </b> </li>\n",
    "</ul>\n",
    "\n",
    "<h3>Summary: </h3>\n",
    "<ul>\n",
    "    <li><b>Organic avocados:</b> Based on the price changes throughout time we can see that they are <b>more</b> expensive. </li>\n",
    "    <li><b>Conventional avocados: </b>Based on price changes throughout time we can see that they are <b>less</b> expensive. </li>\n",
    "</ul>"
   ]
  },
  {
   "cell_type": "code",
   "execution_count": null,
   "metadata": {
    "_kg_hide-input": true,
    "_uuid": "4607c2c22a46f2bd038ee636d89e78b1857df47f"
   },
   "outputs": [],
   "source": [
    "# Change the date column from factor to date\n",
    "df$Date <- as.Date(df$Date, \"%Y-%m-%d\")\n",
    "class(df$Date)\n",
    "\n",
    "# Sort the dates\n",
    "df <- df[order(as.Date(df$Date, format=\"%Y-%m-%d\")),]\n",
    "\n",
    "\n",
    "price_trend <- df %>% select(Date, AveragePrice, type) %>%\n",
    "ggplot(aes(x=Date, y=AveragePrice)) + geom_area(aes(color=type, fill=type), alpha = 0.3, position = position_dodge(0.8)) + \n",
    "theme_minimal() +  scale_color_manual(values = c(\"#ED7921\", \"#62BE51\")) + scale_fill_manual(values = c(\"#FD833E\", \"#B8FC5F\"))\n",
    "\n",
    "price_trend"
   ]
  },
  {
   "cell_type": "code",
   "execution_count": null,
   "metadata": {
    "_kg_hide-input": true,
    "_uuid": "bec9bb594c2566fb6c1ea8db06211f3ad23d299f"
   },
   "outputs": [],
   "source": [
    "# Create a Facet Wrap for each product\n",
    "ggplot(data = df, aes(x = Date, y = AveragePrice, col=type)) +\n",
    "     geom_line() +\n",
    "     facet_wrap(~ type) + theme_minimal() + theme(legend.position=\"bottom\")"
   ]
  },
  {
   "cell_type": "code",
   "execution_count": null,
   "metadata": {
    "_uuid": "118b011d272bdd9a032b6b2bc97e076e6b40a347"
   },
   "outputs": [],
   "source": [
    "# Filter by type\n",
    "organic <- df %>% select(Date, AveragePrice, type, Total.Volume) %>% filter(type == \"organic\")\n",
    "conventional <- df %>% select(Date, AveragePrice, type, Total.Volume) %>% filter(type == \"conventional\")"
   ]
  },
  {
   "cell_type": "code",
   "execution_count": null,
   "metadata": {
    "_kg_hide-input": false,
    "_uuid": "13215051783145a115a262965e625cecf07ece10"
   },
   "outputs": [],
   "source": [
    "organic <- as_tbl_time(organic, index=Date)\n",
    "organic <- as_period(organic, '1 month')\n",
    "\n",
    "\n",
    "# Conventional Avocadoes\n",
    "conventional <- as_tbl_time(conventional, index=Date)\n",
    "conventional <- as_period(conventional, '1 month')"
   ]
  },
  {
   "cell_type": "markdown",
   "metadata": {
    "_uuid": "b128883551d1aed20fa61a1aa7faa8198350fd97"
   },
   "source": [
    "<h3> Relationship between Prices and Total Volume:</h3>\n",
    "<a id=\"rel\"></a>\n",
    "In this phase we will analyze the impact supply has on the price of avocados as a whole. Normally, there is an inverse relationship between supply and prices. When there is an overproduction of avocados they will have a negative impact on the market price of avocados. Let's see if this is the case for both conventional and organic avocados.\n",
    "<ul>\n",
    "    <li><b>Conventional: </b> At the end of 2017 we can see a large drop in prices, at the same time there is an increasing amount of volume of avocados in the market. </li>\n",
    "    <li><b>Organic: </b> Same happens with organic avocados, at the end of 2017 there is a big drop and we can see a huge increase in volume. </li>\n",
    "    <li><b> Volume peaks: </b> Notice how each volume peak is a signal for an upcoming <b>drop</b> in avocado prices. </li>\n",
    "</ul>"
   ]
  },
  {
   "cell_type": "code",
   "execution_count": null,
   "metadata": {
    "_uuid": "81ce139b9346500e7460c02a5568860472fe4840"
   },
   "outputs": [],
   "source": [
    "head(conventional)"
   ]
  },
  {
   "cell_type": "code",
   "execution_count": null,
   "metadata": {
    "_kg_hide-input": true,
    "_uuid": "b79c8e32c220f8726d5517dc758287ceff6867fa"
   },
   "outputs": [],
   "source": [
    "# Now let's show monthly avocadoes price\n",
    "\n",
    "\n",
    "options(repr.plot.width=8, repr.plot.height=6)\n",
    "conventional_monthly <- conventional %>%\n",
    "ggplot(aes(x=Date, y=AveragePrice)) + geom_line(color=\"#7FB3D5\") + theme_economist() + \n",
    "theme(plot.title=element_text(hjust=0.5), plot.background=element_rect(fill=\"#D5D8DC\")) + \n",
    "labs(title=\"Conventional Avocados\") + geom_hline(yintercept=max(conventional$AveragePrice), linetype=\"dashed\", color = \"red\") + \n",
    "geom_hline(yintercept=min(conventional$AveragePrice), linetype=\"dashed\", color = \"blue\")\n",
    "\n",
    "# Let's create a volume chart\n",
    "conventional_volume <- conventional %>%\n",
    "ggplot(aes(x=Date, y=Total.Volume)) + geom_bar(stat='identity', fill=\"#7FB3D5\", color=\"black\") + theme_economist() + \n",
    "theme(plot.title=element_text(hjust=0.5), plot.background=element_rect(fill=\"#D5D8DC\")) + \n",
    "geom_smooth(method=\"loess\", color=\"red\")\n",
    "\n",
    "organic_monthly <- organic %>% \n",
    "ggplot(aes(x=Date, y=AveragePrice)) + geom_line(color=\"#58D68D\") + theme_economist() + \n",
    "theme(plot.title=element_text(hjust=0.5), plot.background=element_rect(fill=\"#D5D8DC\")) + \n",
    "labs(title=\"Organic Avocados\") + geom_hline(yintercept=max(organic$AveragePrice), linetype=\"dashed\", color = \"red\") + \n",
    "geom_hline(yintercept=min(organic$AveragePrice), linetype=\"dashed\", color = \"blue\")\n",
    "\n",
    "organic_volume <- organic %>%\n",
    "ggplot(aes(x=Date, y=Total.Volume)) + geom_bar(stat='identity', fill=\"#58D68D\",color=\"black\") + theme_economist() + \n",
    "theme(plot.title=element_text(hjust=0.5), plot.background=element_rect(fill=\"#D5D8DC\")) + geom_smooth(method=\"loess\", color=\"red\")\n",
    "\n",
    "plot_grid(conventional_monthly, organic_monthly,conventional_volume, organic_volume, nrow=2, ncol=2)"
   ]
  },
  {
   "cell_type": "markdown",
   "metadata": {
    "_uuid": "1c3292c70b3ec836937522659bf5ba42b71f25d0"
   },
   "source": [
    "<h3> Types of Patterns: </h3>\n",
    "<a id=\"pattern\"></a>\n",
    "<ul>\n",
    "    <li><b>Cyclical:</b> Fluctuations do not happen on a fixed frequency, </li>\n",
    "    <li><b>Seasonal: </b> Fluctuations do happen on a fixed frequency. </li>\n",
    "    <li><b> Trends:</b> This occurs when there is a consistent increase or decrease in our data. </li>\n",
    "    </ul>"
   ]
  },
  {
   "cell_type": "code",
   "execution_count": null,
   "metadata": {
    "_uuid": "6c4cee0e9811aa078e5974327ba0a3caf5b74745"
   },
   "outputs": [],
   "source": [
    "# Seasonality patterns (let's start with this one)\n",
    "head(df)"
   ]
  },
  {
   "cell_type": "code",
   "execution_count": null,
   "metadata": {
    "_uuid": "8f90d463953c92dd81b161e813abccf821826517"
   },
   "outputs": [],
   "source": [
    "head(organic)"
   ]
  },
  {
   "cell_type": "markdown",
   "metadata": {
    "_uuid": "0d5d3be0dea18ea77042e80bf0ebafa0f0a08d51"
   },
   "source": [
    "<h3> <b> Analyzing Seasonal Patterns:</b> </h3>\n",
    "<a id=\"analysis\"></a>\n",
    "In this section we will try to find if there are any significant <b> reocurring seasonal patterns</b>. By this I mean if there any repeating trends in which the avocado price tend to increase. For instance, in May of each year we see that avocado prices tend to increase for some specific reason.\n",
    "\n",
    "<h4>Summary: </h4>\n",
    "<ul>\n",
    "    <li><b> Distributions per year: </b> It looks that most of the prices in the year of 2015 were in the $1.00 for conventional avocados. While for 2016 and 2017 the density of the prices were a little bit higher. </li>\n",
    "    <li><b>Price peaks per Month: </b> It looks that most price peaks occur for both conventional and organic avocados between the months of <b>September </b> and <b>October</b>. </li>\n",
    "    <li><b>Major drop in prices at the end of the year: </b> Interesting enough we see that at the end of the year there is a major price drop in the price of avocados. I wonder why that would be? What possible reason could there be to have a lower price at the end of each year. </li>\n",
    "    <li><b>Standard deviation as a measure of volatility: </b> Standard deviation is just the square root of a variance. We can see that during the year of 2017, the avocado market experienced the highest volatility for both conventional and organic avocados.</li>\n",
    "    <li><b> Percent differences for conventional avocados: </b> Here we want to see if there is a percent increase from year to year when it comes to the average price per month of each type of avocado. From 2015 - 2016 we see that the conventional avocados had a lag in the first six months of the year, then it picked for the next six months. From 2016 - 2017 conventional avocados performed greatly in the year of 2017 as opposed to the year of 2016 when compared to the previous year which was 2016. </li>\n",
    "    <li><b>Percent differences for organic avocados:</b> Now for organic avocados is a totally different story at least for the years 2015 - 2016. In 2016 organic avocados performed worst in almost all months as opposed to the previous year of 2015. Then it performed better in the year of 2017 in almost all the months of 2017 as opposed to the previous year of 2016. </li>\n",
    "    <li><b>2017 a good year for avocados: </b>Based on this trend, we can see that 2017 was a good year for avocados, would our forecast (later in this project) predict that it will do so in the year of 2018? </li>\n",
    "     </ul>\n",
    "     \n",
    "     \n",
    " <h4> <b> Formulas important to know for this section: </b> </h4>\n",
    " <ul>\n",
    " <li>Percent Increase Difference = $ \\large  \\frac{Ending Value - Beginning Value} {Beginning Value}$ </li>\n",
    " <li>Standard Deviation = $\\LARGE \\sqrt{ \\frac{\\sum |x - \\overline{x}|^2 } {n}}$</li>\n",
    " where: <br>\n",
    " x = Actual data observation <br>\n",
    " $\\overline{x}$ = mean of observation <br>\n",
    " n = Number of value in the dataset\n"
   ]
  },
  {
   "cell_type": "code",
   "execution_count": null,
   "metadata": {
    "_kg_hide-input": true,
    "_uuid": "0437cca0f150aff9598faf3a9e3050f164771e0d"
   },
   "outputs": [],
   "source": [
    "seasonal_df <- original_df\n",
    "\n",
    "seasonal_df$month_year <- format(as.Date(original_df$Date), \"%Y-%m\")\n",
    "seasonal_df$month <- format(as.Date(original_df$Date), \"%m\")\n",
    "seasonal_df$year <- format(as.Date(original_df$Date), \"%Y\")\n",
    "\n",
    "\n",
    "seasonal_df$monthabb <- sapply(seasonal_df$month, function(x) month.abb[as.numeric(x)])\n",
    "seasonal_df$monthabb = factor(seasonal_df$monthabb, levels = month.abb)\n",
    "\n",
    "\n",
    "# # Let's see if there are seasonal patterns with conventional avocadoes\n",
    "ggplot(seasonal_df, aes(x = AveragePrice, fill = as.factor(year))) + \n",
    "  geom_density(alpha = .5) + \n",
    "  theme_economist() +\n",
    "  facet_wrap(~ year) + theme(plot.title=element_text(hjust=0.5), plot.background=element_rect(fill=\"#F9E79F\")) + \n",
    "  guides(fill = FALSE) + labs(title=\"Distribution of Prices by year\", x = 'Average Price', y = 'Density') + \n",
    "scale_fill_manual(values=c(\"#2E64FE\", \"#40FF00\", \"#FE642E\", \"#FE2E2E\"))"
   ]
  },
  {
   "cell_type": "code",
   "execution_count": null,
   "metadata": {
    "_kg_hide-input": true,
    "_uuid": "fed3791d449bf2f0762f3a50fc32a5d176b90546"
   },
   "outputs": [],
   "source": [
    "\n",
    "# Detecting seasonality patterns\n",
    "conv_patterns <- seasonal_df %>% select(monthabb, AveragePrice, type) %>% filter(type == \"conventional\") %>%\n",
    "group_by(monthabb) %>% summarize(avg=mean(AveragePrice)) %>%\n",
    "ggplot(aes(x=monthabb, y=avg)) + geom_point(color=\"#F35D5D\", aes(size=avg)) + geom_line(group=1, color=\"#7FB3D5\") + \n",
    "theme_economist() + theme(legend.position=\"none\", plot.title=element_text(hjust=0.5), plot.background=element_rect(fill=\"#F9E79F\")) + \n",
    "labs(title=\"Conventional Avocados\", x=\"Month\", y=\"Average Price\")\n",
    "\n",
    "\n",
    "org_patterns <- seasonal_df %>% select(monthabb, AveragePrice, type) %>% filter(type == \"organic\") %>%\n",
    "group_by(monthabb) %>% summarize(avg=mean(AveragePrice)) %>%\n",
    "ggplot(aes(x=monthabb, y=avg)) + geom_point(color=\"#F35D5D\", aes(size=avg)) + geom_line(group=1, color=\"#58D68D\") + \n",
    "theme_economist() + theme(legend.position=\"none\", plot.title=element_text(hjust=0.5), plot.background=element_rect(fill=\"#F9E79F\")) + \n",
    "labs(title=\"Organic Avocados\", x=\"Month\", y=\"Average Price\")\n",
    "\n",
    "plot_grid(conv_patterns, org_patterns, nrow=2)"
   ]
  },
  {
   "cell_type": "code",
   "execution_count": null,
   "metadata": {
    "_kg_hide-input": true,
    "_uuid": "8fa11a1fe96aeb33bde03c0a364623b26286f8cc"
   },
   "outputs": [],
   "source": [
    "# Hmm let's see if the Seasonality pattern is maintained each year.\n",
    "options(repr.plot.width=8, repr.plot.height=6) \n",
    "conv_pat_yearly <- seasonal_df %>% select(year, monthabb, AveragePrice, type) %>% filter(type == \"conventional\", year == c(\"2015\", \"2016\", \"2017\")) %>%\n",
    "group_by(year, monthabb) %>% summarize(avg=mean(AveragePrice)) %>%\n",
    "ggplot(aes(x=monthabb, y=avg)) + geom_point(color=\"#5D6D7E\") + geom_line(group=1, color=\"#F7DC6F\") + facet_wrap(~as.factor(year)) + \n",
    "theme_minimal() + theme(plot.title=element_text(hjust=0.5), plot.background=element_rect(fill=\"#F4F6F7\"), axis.text.x = element_text(angle = 90)) + \n",
    "labs(title=\"Seasonal Fluctuations \\n Convenctional Avocados\", x=\"Month\", y=\"Average Price\")\n",
    "\n",
    "org_pat_yearly <- seasonal_df %>% select(year, monthabb, AveragePrice, type) %>% filter(type == \"organic\", year == c(\"2015\", \"2016\", \"2017\")) %>%\n",
    "group_by(year, monthabb) %>% summarize(avg=mean(AveragePrice)) %>%\n",
    "ggplot(aes(x=monthabb, y=avg)) + geom_point(color=\"#5D6D7E\") + geom_line(group=1, color=\"#E74C3C\") + facet_wrap(~as.factor(year)) + \n",
    "theme_minimal() + theme(plot.title=element_text(hjust=0.5), plot.background=element_rect(fill=\"#F4F6F7\"), axis.text.x = element_text(angle = 90)) + \n",
    "labs(title=\"Seasonal Fluctuations \\n Organic Avocados\", x=\"Month\", y=\"Average Price\")\n",
    "\n",
    "plot_grid(conv_pat_yearly, org_pat_yearly, nrow=2)"
   ]
  },
  {
   "cell_type": "markdown",
   "metadata": {
    "_uuid": "08bebc4d61901f40de8c3af1528ee91d548cd8e3"
   },
   "source": []
  },
  {
   "cell_type": "code",
   "execution_count": null,
   "metadata": {
    "_kg_hide-input": true,
    "_uuid": "791ae06ab247c9feec57ea020730a3a75ceaeb23"
   },
   "outputs": [],
   "source": [
    "# Measuring standard deviation per month through each year by type of avocado.\n",
    "std_conv <- seasonal_df %>% select(year, monthabb, AveragePrice, type) %>% filter(type == \"conventional\", year == c(\"2015\", \"2016\", \"2017\")) %>%\n",
    "group_by(year, monthabb) %>% summarize(std=sd(AveragePrice)) %>%\n",
    "ggplot(aes(x=monthabb, y=std)) + \n",
    "  geom_point(aes(size=std), col=\"#5A96C6\") +   # Draw points\n",
    "  geom_segment(aes(x=monthabb, \n",
    "                   xend=monthabb, \n",
    "                   y=min(std), \n",
    "                   yend=max(std)), \n",
    "               linetype=\"dashed\", \n",
    "               size=0.1) + \n",
    "  coord_flip() + \n",
    "facet_wrap(~year) + \n",
    "theme_tufte() + \n",
    "theme(plot.title=element_text(hjust=0.5), plot.background=element_rect(fill=\"#F4F6F7\"), legend.position=\"none\") + \n",
    "labs(title=\"Conventional Avocados \\n Price Volatility\",x=\"Months\", y=\"Standard Deviation\")\n",
    "\n",
    "\n",
    "std_org <- seasonal_df %>% select(year, monthabb, AveragePrice, type) %>% filter(type == \"organic\", year == c(\"2015\", \"2016\", \"2017\")) %>%\n",
    "group_by(year, monthabb) %>% summarize(std=sd(AveragePrice)) %>%\n",
    "ggplot(aes(x=monthabb, y=std)) + \n",
    "  geom_point(aes(size=std), col=\"#5AC67C\") +   # Draw points\n",
    "  geom_segment(aes(x=monthabb, \n",
    "                   xend=monthabb, \n",
    "                   y=min(std), \n",
    "                   yend=max(std)), \n",
    "               linetype=\"dashed\", \n",
    "               size=0.1) + \n",
    "  coord_flip() + \n",
    "facet_wrap(~year) + \n",
    "theme_tufte() + \n",
    "theme(plot.title=element_text(hjust=0.5), plot.background=element_rect(fill=\"#F4F6F7\"), legend.position=\"none\") + \n",
    "labs(title=\"Organic Avocados \\n Price Volatility\",x=\"Months\", y=\"Standard Deviation\")\n",
    "\n",
    "plot_grid(std_conv, std_org, nrow=2)"
   ]
  },
  {
   "cell_type": "code",
   "execution_count": null,
   "metadata": {
    "_kg_hide-input": true,
    "_uuid": "cdc408c1726f322d2f6537b4fe9dc4a78707235d"
   },
   "outputs": [],
   "source": [
    "# Let's have a closer look how the price changes per month.\n",
    "# filter by type and year\n",
    "\n",
    "options(repr.plot.width=10, repr.plot.height=8) \n",
    "\n",
    "se <- function(x) sqrt(var(x)/length(x)) \n",
    "\n",
    "conv <- seasonal_df %>% select(year, monthabb, AveragePrice, type) %>% filter(type == \"conventional\", year == c(\"2015\", \"2016\", \"2017\")) %>%\n",
    "group_by(year, monthabb) %>% \n",
    "ggplot(aes(x=monthabb, y=AveragePrice, fill=monthabb), color=\"white\") + geom_bar(width=1, stat='identity') + \n",
    "  geom_errorbar(aes(ymin = AveragePrice - se(AveragePrice), \n",
    "                    ymax = AveragePrice + se(AveragePrice), \n",
    "                    color = monthabb), \n",
    "                    width = .2) + scale_y_continuous(breaks = 0:nlevels(seasonal_df$monthabb)) +\n",
    "facet_wrap(~year) + theme_minimal() + \n",
    "  theme(axis.ticks = element_blank(),\n",
    "        axis.text.y=element_blank(),\n",
    "        axis.title = element_blank(),\n",
    "        axis.line = element_blank(), \n",
    "       plot.background=element_rect(fill=\"#FFF1E0\"),\n",
    "       legend.position=\"none\", plot.title=element_text(hjust=0.5)) + \n",
    "coord_polar() + labs(title=\"Seasonal cycle \\n Conventional Avocados\") + \n",
    "scale_fill_manual(values=c('#57FCE0', '#57A6FC', '#3C546E', '#4AFA76', '#95CFA4', '#C0E436', '#F2A42D', '#F25F2D', '#F2442D',\n",
    "                           '#AB4949', '#4950AB', '#4974AB'))\n",
    "\n",
    "\n",
    "org <- seasonal_df %>% select(year, monthabb, AveragePrice, type) %>% filter(type == \"organic\", year == c(\"2015\", \"2016\", \"2017\")) %>%\n",
    "group_by(year, monthabb) %>% \n",
    "ggplot(aes(x=monthabb, y=AveragePrice, fill=monthabb), color=\"white\") + geom_bar(width=1, stat='identity') + \n",
    "  geom_errorbar(aes(ymin = AveragePrice - se(AveragePrice), \n",
    "                    ymax = AveragePrice + se(AveragePrice), \n",
    "                    color = monthabb), \n",
    "                    width = .2) + scale_y_continuous(breaks = 0:nlevels(seasonal_df$monthabb)) +\n",
    "facet_wrap(~year) + theme_minimal() + \n",
    "  theme(axis.ticks = element_blank(),\n",
    "        axis.text.y=element_blank(),\n",
    "        axis.title = element_blank(),\n",
    "        axis.line = element_blank(), \n",
    "       plot.background=element_rect(fill=\"#FFF1E0\"),\n",
    "       legend.position=\"none\", plot.title=element_text(hjust=0.5)) + \n",
    "coord_polar() + labs(title=\"Seasonal cycle \\n Conventional Avocados\") + \n",
    "scale_fill_manual(values=c('#57FCE0', '#57A6FC', '#3C546E', '#4AFA76', '#95CFA4', '#C0E436', '#F2A42D', '#F25F2D', '#F2442D',\n",
    "                           '#AB4949', '#4950AB', '#4974AB'))\n",
    "\n",
    "\n",
    "\n",
    "grid.arrange(conv, org, nrow = 2)"
   ]
  },
  {
   "cell_type": "code",
   "execution_count": null,
   "metadata": {
    "_kg_hide-input": true,
    "_uuid": "d07e712e7d7015b1f5298e0a0375cd9e01f264d7"
   },
   "outputs": [],
   "source": [
    "options(repr.plot.width=10, repr.plot.height=7) \n",
    "r_avg <- seasonal_df %>% group_by(year, monthabb) %>%  select(type, year, monthabb, AveragePrice) %>% \n",
    "filter(type == \"conventional\", year == c(\"2015\", \"2016\", \"2017\")) %>%\n",
    "group_by(year, monthabb) %>%\n",
    "summarize(avg=mean(AveragePrice))\n",
    "\n",
    "\n",
    "\n",
    "structured_data <- spread_(r_avg, key=\"year\", value=\"avg\")\n",
    "\n",
    "\n",
    "colnames(structured_data) <- c(\"Months\", \"First_year\", \"Second_year\", \"Third_year\")\n",
    "\n",
    "\n",
    "structured_data$first_pct <- NA\n",
    "structured_data$second_pct <- NA\n",
    "\n",
    "structured_data$first_pct <- (structured_data$Second_year - structured_data$First_year)/structured_data$First_year\n",
    "structured_data$second_pct <- (structured_data$Third_year - structured_data$Second_year)/structured_data$Second_year\n",
    "\n",
    "\n",
    "structured_data<- structured_data %>% \n",
    "mutate(first_cond=ifelse(first_pct > 0, \"Positive\", \"Negative\"),\n",
    "      second_cond=ifelse(second_pct > 0, \"Positive\", \"Negative\"))\n",
    "\n",
    "\n",
    "firstp_change <- ggplot(structured_data) +\n",
    "  geom_segment( aes(x=Months, xend=Months, y=First_year, yend=Second_year), color=\"#6E6A6A\") +\n",
    "  geom_point( aes(x=Months, y=First_year), color=\"#F74B4B\", size=3 ) +\n",
    "  geom_point( aes(x=Months, y=Second_year),color=\"#36ACD7\", size=3 ) +\n",
    "  coord_flip()+ \n",
    "  theme_economist() +\n",
    "  theme(\n",
    "    legend.position = \"top\",\n",
    "      plot.title=element_text(hjust=0.5),\n",
    "      plot.background=element_rect(fill=\"#F4F6F7\")\n",
    "  ) +\n",
    "labs(title=\"Conventional Avocado Price changes \\n (2015 - 2016)\", x=\"Months\", y=\"Price\",\n",
    "    caption=\"Red: Year of 2015, Blue: Year of 2016\")\n",
    "\n",
    "\n",
    "secondp_change <- ggplot(structured_data) +\n",
    "  geom_segment( aes(x=Months, xend=Months, y=Second_year, yend=Third_year), color=\"#6E6A6A\") +\n",
    "  geom_point( aes(x=Months, y=Second_year), color=\"#36ACD7\", size=3 ) +\n",
    "  geom_point( aes(x=Months, y=Third_year), color=\"#58FA58\", size=3 ) +\n",
    "  coord_flip()+ \n",
    "  theme_economist() +\n",
    "  theme(\n",
    "    legend.position = \"top\",\n",
    "      plot.title=element_text(hjust=0.5),\n",
    "      plot.background=element_rect(fill=\"#F4F6F7\")\n",
    "  ) +\n",
    "labs(title=\"Conventional Avocado Price changes \\n (2016 - 2017)\", x=\"Months\", y=\"Price\",\n",
    "    caption=\"Blue: Year of 2016, Green: Year of 2017\" )\n",
    "\n",
    "# plot_grid(firstp_change, secondp_change, ncol=2)\n",
    "\n",
    "first_pct_dif <- structured_data %>% select(Months, first_pct, first_cond) %>%\n",
    "ggplot(aes(fill=first_cond)) + geom_bar(stat='identity', aes(x=Months, y=round(first_pct,2) * 100), color=\"black\") + \n",
    " theme_economist() + theme(axis.text.x=element_text(angle=90), plot.background=element_rect(fill=\"#F4F6F7\"), legend.position=\"bottom\") + \n",
    "labs(x=\"Month\", y=\"% Difference\") + \n",
    "guides(fill=guide_legend(title=\"Diff Status\")) + scale_fill_manual(values=c(\"#FB4D42\", \"#ADE175\"))\n",
    "\n",
    "second_pct_dif <- structured_data %>% select(Months, second_pct, second_cond) %>%\n",
    "ggplot(aes(fill=second_cond)) + geom_bar(stat='identity', aes(x=Months, y=round(second_pct,2) * 100), color=\"black\") + \n",
    " theme_economist() + \n",
    "theme(axis.text.x=element_text(angle=90), plot.background=element_rect(fill=\"#F4F6F7\"), legend.position=\"bottom\") + labs(x=\"Month\", y=\"% Difference\") + \n",
    "guides(fill=guide_legend(title=\"Diff Status\")) + scale_fill_manual(values=c(\"#FB4D42\", \"#ADE175\"))\n",
    "\n",
    "\n",
    "\n",
    "plot_grid(firstp_change, secondp_change, first_pct_dif, second_pct_dif,  nrow=2, ncol=2)"
   ]
  },
  {
   "cell_type": "code",
   "execution_count": null,
   "metadata": {
    "_kg_hide-input": true,
    "_uuid": "7b21929eab36a5f3f9ff0c3d93edfb65c9b7d677"
   },
   "outputs": [],
   "source": [
    "# Organic avvocados\n",
    "\n",
    "r_avg_org <- seasonal_df %>% group_by(year, monthabb) %>%  select(type, year, monthabb, AveragePrice) %>% \n",
    "filter(type == \"organic\", year == c(\"2015\", \"2016\", \"2017\")) %>%\n",
    "group_by(year, monthabb) %>%\n",
    "summarize(avg=mean(AveragePrice))\n",
    "\n",
    "\n",
    "\n",
    "structured_data_org <- spread_(r_avg_org, key=\"year\", value=\"avg\")\n",
    "\n",
    "\n",
    "colnames(structured_data_org) <- c(\"Months\", \"First_year\", \"Second_year\", \"Third_year\")\n",
    "\n",
    "\n",
    "\n",
    "\n",
    "structured_data_org$first_pct <- NA\n",
    "structured_data_org$second_pct <- NA\n",
    "\n",
    "structured_data_org$first_pct <- (structured_data_org$Second_year - structured_data_org$First_year)/structured_data$First_year\n",
    "structured_data_org$second_pct <- (structured_data_org$Third_year - structured_data_org$Second_year)/structured_data$Second_year\n",
    "\n",
    "\n",
    "structured_data_org<- structured_data_org %>% \n",
    "mutate(first_cond=ifelse(first_pct > 0, \"Positive\", \"Negative\"),\n",
    "      second_cond=ifelse(second_pct > 0, \"Positive\", \"Negative\"))\n",
    "\n",
    "\n",
    "firstp_change_org <- ggplot(structured_data_org) +\n",
    "  geom_segment( aes(x=Months, xend=Months, y=First_year, yend=Second_year), color=\"#6E6A6A\") +\n",
    "  geom_point( aes(x=Months, y=First_year), color=\"#F74B4B\", size=3 ) +\n",
    "  geom_point( aes(x=Months, y=Second_year),color=\"#36ACD7\", size=3 ) +\n",
    "  coord_flip()+ \n",
    "  theme_economist() +\n",
    "  theme(\n",
    "    legend.position = \"top\",\n",
    "      plot.title=element_text(hjust=0.5),\n",
    "      plot.background=element_rect(fill=\"#DCFCE6\")\n",
    "  ) +\n",
    "labs(title=\"Organic Avocado Price changes \\n (2015 - 2016)\", x=\"Months\", y=\"Price\",\n",
    "    caption=\"Red: Year of 2015, Blue: Year of 2016\")\n",
    "\n",
    "\n",
    "secondp_change_org <- ggplot(structured_data_org) +\n",
    "  geom_segment( aes(x=Months, xend=Months, y=Second_year, yend=Third_year), color=\"#6E6A6A\") +\n",
    "  geom_point( aes(x=Months, y=Second_year), color=\"#36ACD7\", size=3 ) +\n",
    "  geom_point( aes(x=Months, y=Third_year), color=\"#58FA58\", size=3 ) +\n",
    "  coord_flip()+ \n",
    "  theme_economist() +\n",
    "  theme(\n",
    "    legend.position = \"top\",\n",
    "      plot.title=element_text(hjust=0.5),\n",
    "      plot.background=element_rect(fill=\"#DCFCE6\")\n",
    "  ) +\n",
    "labs(title=\"Organic Avocado Price changes \\n (2016 - 2017)\", x=\"Months\", y=\"Price\",\n",
    "    caption=\"Blue: Year of 2016, Green: Year of 2017\" )\n",
    "\n",
    "# plot_grid(firstp_change, secondp_change, ncol=2)\n",
    "\n",
    "first_pct_dif_org <- structured_data_org %>% select(Months, first_pct, first_cond) %>%\n",
    "ggplot(aes(fill=first_cond)) + geom_bar(stat='identity', aes(x=Months, y=round(first_pct,2) * 100), color=\"black\") + \n",
    " theme_economist() + theme(axis.text.x=element_text(angle=90), plot.background=element_rect(fill=\"#DCFCE6\"), legend.position=\"bottom\") + \n",
    "labs(x=\"Month\", y=\"% Difference\") + \n",
    "guides(fill=guide_legend(title=\"Diff Status\")) + scale_fill_manual(values=c(\"#FB4D42\", \"#ADE175\"))\n",
    "\n",
    "second_pct_dif_org <- structured_data_org %>% select(Months, second_pct, second_cond) %>%\n",
    "ggplot(aes(fill=second_cond)) + geom_bar(stat='identity', aes(x=Months, y=round(second_pct,2) * 100), color=\"black\") + \n",
    " theme_economist() + \n",
    "theme(axis.text.x=element_text(angle=90), plot.background=element_rect(fill=\"#DCFCE6\"), legend.position=\"bottom\") + labs(x=\"Month\", y=\"% Difference\") + \n",
    "guides(fill=guide_legend(title=\"Diff Status\")) + scale_fill_manual(values=c(\"#FB4D42\", \"#ADE175\"))\n",
    "\n",
    "\n",
    "\n",
    "plot_grid(firstp_change_org, secondp_change_org, first_pct_dif_org, second_pct_dif_org,  nrow=2, ncol=2)"
   ]
  },
  {
   "cell_type": "code",
   "execution_count": null,
   "metadata": {
    "_kg_hide-input": true,
    "_uuid": "73d02da39280876140d2ad9748cf94cc3e4c2266"
   },
   "outputs": [],
   "source": [
    "options(repr.plot.width=8, repr.plot.height=6) \n",
    "\n",
    "# Let's create a seasonal column and plot a point line chart by each year.\n",
    "seasonal_df$season <- ifelse(seasonal_df$month %in% c(\"03\", \"04\",\"05\"), \"Spring\",\n",
    "                            ifelse(seasonal_df$month %in% c(\"06\",\"07\" ,\"08\"), \"Summer\",\n",
    "                                  ifelse(seasonal_df$month %in% c(\"09\",\"10\",\"11\"), \"Fall\", \"Winter\")))\n",
    "\n",
    "\n",
    "seasonality.plot.conventional <- seasonal_df %>% select(season, year, AveragePrice, type) %>% \n",
    "filter(type == \"conventional\", year == c(\"2015\", \"2016\", \"2017\")) %>%\n",
    "group_by(season, year) %>%\n",
    "summarize(avg=mean(AveragePrice)) %>% ggplot(aes(x=season, y=avg, color=season)) + geom_point(size=3) + \n",
    " geom_segment(aes(x=season, \n",
    "                   xend=season, \n",
    "                   y=0, \n",
    "                   yend=avg)) + \n",
    "coord_flip() + facet_wrap(~as.factor(year)) + theme_minimal() + \n",
    "theme(plot.title=element_text(hjust=0.5), plot.background=element_rect(fill=\"#F4F6F7\")) + \n",
    "scale_color_manual(values=c(\"#a06a31\", \"#9bd16b\", \"#d1706b\", \"#3bbf9e\")) + \n",
    "labs(title=\"Conventional Avocados by Season\", x=\"Season\", y=\"Average Price\") + \n",
    "geom_text(aes(x=season, y=0.01, label= paste0(\"$ \", round(avg,2))),\n",
    "            hjust=-0.5, vjust=-0.5, size=4, \n",
    "            colour=\"black\", fontface=\"italic\",\n",
    "         angle=360)\n",
    "\n",
    "seasonality.plot.organic <- seasonal_df %>% select(season, year, AveragePrice, type) %>% \n",
    "filter(type == \"organic\", year == c(\"2015\", \"2016\", \"2017\")) %>%\n",
    "group_by(season, year) %>%\n",
    "summarize(avg=mean(AveragePrice)) %>% ggplot(aes(x=season, y=avg, color=season)) + geom_point(size=3) + \n",
    " geom_segment(aes(x=season, \n",
    "                   xend=season, \n",
    "                   y=0, \n",
    "                   yend=avg)) + \n",
    "coord_flip() + facet_wrap(~as.factor(year)) + theme_minimal() + \n",
    "theme(plot.title=element_text(hjust=0.5), plot.background=element_rect(fill=\"#F4F6F7\")) + \n",
    "scale_color_manual(values=c(\"#a06a31\", \"#9bd16b\", \"#d1706b\", \"#3bbf9e\")) + \n",
    "labs(title=\"Organic Avocados by Season\", x=\"Season\", y=\"Average Price\") + \n",
    "geom_text(aes(x=season, y=0.01, label= paste0(\"$ \", round(avg,2))),\n",
    "            hjust=-0.5, vjust=-0.5, size=4, \n",
    "            colour=\"black\", fontface=\"italic\",\n",
    "         angle=360)\n",
    "\n",
    "\n",
    "plot_grid(seasonality.plot.conventional, seasonality.plot.organic, nrow=2)"
   ]
  },
  {
   "cell_type": "markdown",
   "metadata": {
    "_uuid": "4e68fe540f16276e674c455309287060d5a5d102"
   },
   "source": [
    "<h3> Regional Analysis: </h3>\n",
    "<a id=\"regional\"></a>\n",
    "In this phase of the exploratory data analysis we will analyze two main things the volume of avocados and price of the different types of avocados in each region. We will see the inverse correlation there is between supply and demand and how it affects price. Since we have 54 regions, we will use just a few to make note of this inverse correlation.\n",
    "\n",
    "\n",
    "Volume Price Difference = $\\large Volume of Avocados Produced - Average Avocado Price $"
   ]
  },
  {
   "cell_type": "code",
   "execution_count": null,
   "metadata": {
    "_uuid": "9a18a80fcf1329f5aab2893f373a1f4af30d9779"
   },
   "outputs": [],
   "source": [
    "head(seasonal_df)"
   ]
  },
  {
   "cell_type": "code",
   "execution_count": null,
   "metadata": {
    "_kg_hide-input": true,
    "_uuid": "4951f918cc88c02276335eecbc935d518919c27f"
   },
   "outputs": [],
   "source": [
    "options(repr.plot.width=8, repr.plot.height=7) \n",
    "\n",
    "\n",
    "regions_monthabb <- seasonal_df %>% select(monthabb, Total.Volume) %>% \n",
    "group_by(monthabb) %>% summarize(avg.volume=mean(Total.Volume)) %>%\n",
    "ggplot(aes(x=monthabb, y=avg.volume)) + geom_bar(stat=\"identity\",  fill=\"#81FF5F\") + \n",
    "coord_flip() + theme_minimal() + \n",
    "theme(plot.title=element_text(hjust=0.5), plot.background=element_rect(fill=\"#F4F6F7\"))\n",
    "\n",
    "\n",
    "\n",
    "price_monthabb <- seasonal_df %>% select(monthabb, AveragePrice) %>% \n",
    "group_by(monthabb) %>% group_by(avg.price=mean(AveragePrice)) %>%\n",
    "ggplot(aes(x=monthabb, y=avg.price))  + geom_bar(stat=\"identity\", fill=\"#FF685F\") + \n",
    "coord_flip() + theme_minimal() + \n",
    "theme(legend.position=\"none\", plot.title=element_text(hjust=0.5), plot.background=element_rect(fill=\"#F4F6F7\")) \n",
    "\n",
    "\n",
    "# The higher the price, the lower the volume.\n",
    "seasonal_df$Volume_Price_Diff <- (seasonal_df$Total.Volume - seasonal_df$AveragePrice)\n",
    "\n",
    "# If the month is higher there is a higher volume and thus a lower price.\n",
    "volprice_diff <- seasonal_df %>% group_by(year, monthabb) %>% select(year, monthabb, type, Volume_Price_Diff) %>% \n",
    "filter(year == c(\"2015\", \"2016\", \"2017\")) %>%\n",
    "summarize(avg.diff=mean(Volume_Price_Diff)) %>%\n",
    "ggplot(aes(x=monthabb, y=avg.diff, group=year, color=year)) + geom_area(aes(fill=year)) + theme_minimal() +\n",
    "theme(plot.title=element_text(hjust=0.5), plot.background=element_rect(fill=\"#F4F6F7\"),\n",
    "      legend.position=\"bottom\", legend.background = element_rect(fill=\"#FFF9F5\",\n",
    "                                  size=0.5, linetype=\"solid\", \n",
    "                                  colour =\"black\")) + \n",
    "scale_fill_manual(values=c(\"#6EB3EA\", \"#89F058\", \"#FBA31C\")) + scale_color_manual(values=c(\"#407EAF\",\"#68B842\", \"#F1711E\"))\n",
    "\n",
    "\n",
    "\n",
    "pushViewport(viewport(layout = grid.layout(2, 2)))\n",
    "vplayout <- function(x, y) viewport(layout.pos.row = x, layout.pos.col = y)\n",
    "\n",
    "print(regions_monthabb, vp = vplayout(1, 1))\n",
    "print(price_monthabb, vp = vplayout(1, 2))\n",
    "print(volprice_diff, vp = vplayout(2, 1:2))"
   ]
  },
  {
   "cell_type": "code",
   "execution_count": null,
   "metadata": {
    "_uuid": "901aaea183791cbf7550000e62028eecf28db40a"
   },
   "outputs": [],
   "source": [
    "head(seasonal_df)"
   ]
  },
  {
   "cell_type": "code",
   "execution_count": null,
   "metadata": {
    "_kg_hide-input": true
   },
   "outputs": [],
   "source": [
    "volume_conv <- seasonal_df %>% select(year, monthabb, Total.Volume, region, type) %>% \n",
    "filter(type == \"conventional\", year == c(\"2015\", \"2016\", \"2017\"), \n",
    "       region == c(\"Northeast\", \"SouthCentral\", \"MidSouth\", \"Southeast\", \"West\")) %>% \n",
    "group_by(year, monthabb, region) %>% summarize(avg.vol=mean(Total.Volume)) %>%\n",
    "ggplot(aes(x=monthabb, y=avg.vol)) + geom_point(color=\"#5D6D7E\") + geom_line(group=1, color=\"#FE642E\") +\n",
    "facet_grid(region ~ year)+ \n",
    "theme_economist() + \n",
    "theme(plot.title=element_text(hjust=0.5), plot.background=element_rect(fill=\"#F2F5A9\"), axis.text.x = element_text(angle = 90)) + \n",
    "labs(title=\"Market Volume \\n Convenctional Avocados\", x=\"Month\", y=\"Average Volume\")\n",
    "\n",
    "volume_conv"
   ]
  },
  {
   "cell_type": "code",
   "execution_count": null,
   "metadata": {
    "_kg_hide-input": true
   },
   "outputs": [],
   "source": [
    "volume_org <- seasonal_df %>% select(year, monthabb, Total.Volume, region, type) %>% \n",
    "filter(type == \"organic\", year == c(\"2015\", \"2016\", \"2017\"), \n",
    "       region == c(\"Northeast\", \"SouthCentral\", \"MidSouth\", \"Southeast\", \"West\")) %>% \n",
    "group_by(year, monthabb, region) %>% summarize(avg.vol=mean(Total.Volume)) %>%\n",
    "ggplot(aes(x=monthabb, y=avg.vol)) + geom_point(color=\"#5D6D7E\") + geom_line(group=1, color=\"#819FF7\") +\n",
    "facet_grid(region ~ year)+ \n",
    "theme_economist() + \n",
    "theme(plot.title=element_text(hjust=0.5), plot.background=element_rect(fill=\"#E6E6E6\"), axis.text.x = element_text(angle = 90)) + \n",
    "labs(title=\"Market Volume \\n Organic Avocados\", x=\"Month\", y=\"Average Volume\")\n",
    "\n",
    "volume_org"
   ]
  },
  {
   "cell_type": "markdown",
   "metadata": {
    "_uuid": "d10be597e7bc39e74a59be76cd81cee1048d17ea"
   },
   "source": [
    "<h3> Using the Autoplot library for Time Series: </h3>\n",
    "<a id=\"autoplot\"></a>\n",
    "The autoplot library allows us to see patterns between the different years. In the chart below we can see the following:\n",
    "<ul>\n",
    "    <li>Prices for 2017 were the highest overall. </li>\n",
    "    <li>There is an increase in avocado prices for both organic and conventional types. </li>\n",
    "    <li>The lowest price occured in the year of 2015 </li>\n",
    "    </ul>"
   ]
  },
  {
   "cell_type": "code",
   "execution_count": null,
   "metadata": {
    "_kg_hide-input": true,
    "_uuid": "2aa38541089ace7ee6982ea628a1802c9476a4ca"
   },
   "outputs": [],
   "source": [
    "options(repr.plot.width=10, repr.plot.height=8) \n",
    "\n",
    "conv.price <- seasonal_df %>% select(type,year, monthabb, AveragePrice) %>% filter(type == \"conventional\", year == c(\"2015\", \"2016\", \"2017\")) %>%\n",
    "group_by(year, monthabb) %>% summarize(avg=mean(AveragePrice))\n",
    "\n",
    "org.price <- seasonal_df %>% select(type,year, monthabb, AveragePrice) %>% filter(type == \"organic\", year == c(\"2015\", \"2016\", \"2017\")) %>%\n",
    "group_by(year, monthabb) %>% summarize(avg=mean(AveragePrice))\n",
    "\n",
    "conv.price <- ts(conv.price$avg, start=2015, frequency=12)\n",
    "org.price <- ts(org.price$avg, start=2015, frequency=12)\n",
    "\n",
    "\n",
    "conv.plot <- autoplot(conv.price, color=\"#48a4ff\") + \n",
    "theme_economist() + theme(plot.title=element_text(hjust=0.5), plot.background=element_rect(fill=\"#F9E79F\")) + \n",
    "labs(title=\"Average Price by Month \\n Conventional Avocados\", y=\"Average Price\")\n",
    "\n",
    "org.plot <- autoplot(org.price, color=\"#58FA82\") + \n",
    "theme_economist() + theme(plot.title=element_text(hjust=0.5), plot.background=element_rect(fill=\"#F9E79F\")) + \n",
    "labs(title=\"Average Price by Month \\n Organic Avocados\", y=\"Average Price\")\n",
    "\n",
    "\n",
    "byyear.plot.conv <- ggseasonplot(conv.price, year.labels=TRUE, year.labels.left=TRUE) + theme_economist() + \n",
    "theme(plot.title=element_text(hjust=0.5), plot.background=element_rect(fill=\"#F9E79F\")) + \n",
    "labs(title=\"Average Conventional A. Price by Year \\n for each month\", y=\"Average Price\") + \n",
    "scale_color_manual(values=c(\"#407EAF\",\"#68B842\", \"#F1711E\"))\n",
    "\n",
    "\n",
    "byyear.plot.org <- ggseasonplot(org.price, year.labels=TRUE, year.labels.left=TRUE) + theme_economist() + \n",
    "theme(plot.title=element_text(hjust=0.5), plot.background=element_rect(fill=\"#F9E79F\")) + \n",
    "labs(title=\"Average Organic A. Price by Year \\n for each month\", y=\"Average Price\") + \n",
    "scale_color_manual(values=c(\"#407EAF\",\"#68B842\", \"#F1711E\"))\n",
    "\n",
    "\n",
    "plot_grid(conv.plot, byyear.plot.conv, org.plot, byyear.plot.org, nrow=2, ncol=2)"
   ]
  },
  {
   "cell_type": "code",
   "execution_count": null,
   "metadata": {
    "_kg_hide-input": true,
    "_uuid": "3abff9dae56b26019deedc00bfb639f0d996155c"
   },
   "outputs": [],
   "source": [
    "polar.conv <- ggseasonplot(conv.price, polar=TRUE) +\n",
    "  ylab(\"Average Avocado Price\") +\n",
    "  ggtitle(\"Conventional Avocados \\n Polar Plot\") + theme_minimal() + \n",
    "theme(plot.title=element_text(hjust=0.5), plot.background=element_rect(fill=\"#F4F6F7\"),\n",
    "      legend.position=\"bottom\", legend.background = element_rect(fill=\"#FFF9F5\",\n",
    "                                  size=0.5, linetype=\"solid\", \n",
    "                                  colour =\"black\")) + \n",
    "scale_color_manual(values=c(\"#407EAF\",\"#68B842\", \"#F1711E\"))\n",
    "\n",
    "\n",
    "polar.org <- ggseasonplot(org.price, polar=TRUE) +\n",
    "  ylab(\"Average Avocado Price\") +\n",
    "  ggtitle(\"Organic Avocados \\n Polar Plot\") + theme_minimal() + \n",
    "theme(plot.title=element_text(hjust=0.5), plot.background=element_rect(fill=\"#F4F6F7\"),\n",
    "      legend.position=\"bottom\", legend.background = element_rect(fill=\"#FFF9F5\",\n",
    "                                  size=0.5, linetype=\"solid\", \n",
    "                                  colour =\"black\")) + \n",
    "scale_color_manual(values=c(\"#407EAF\",\"#68B842\", \"#F1711E\"))\n",
    "\n",
    "\n",
    "plot_grid(polar.conv, polar.org, ncol=2)"
   ]
  },
  {
   "cell_type": "markdown",
   "metadata": {
    "_uuid": "b91fa2567bb4ac0698a16e333dec2e27a86c68dc"
   },
   "source": [
    "### Seasonal subseries plot:\n",
    "<a id=\"subseries\"></a>\n",
    "This is another form of analyzing the different trends per seasonality. Here is what you should know:\n",
    "<ul>\n",
    "    <li><b>Blue line: </b> Is the <b> mean</b> of the avocado month for a specific month. </li>\n",
    "    <li><b>Black line:</b> It is a way to see the<b> fluctuations</b> throughout each month. </li>\n",
    "    </ul>\n",
    "    \n",
    "<h4>Summary: </h4>\n",
    "<ul>\n",
    "    <li><b>Upward Trend: </b> The most significant upward trend happens between June - September for organic avocados and June - October for conventional avocado types. Both types of avocados have a similar trend. </li>\n",
    "    <li><b> Most expensive months to buy avocados:</b> Like in the previous analysis, through this visualization we confirm that the months with the highest average price are September and October however, August is pretty expensive as well.</li>\n",
    "    <li><b>What does this graph tells us? </b> For each month we have three peaks. That represents the highest peak in each month of each year. Since we are using the prices of 2015, 2016, and 2017 we can see how the price of each year behave in all twelve month. This will help us see if there are any major seasonal patterns. Also, we can see how the average change behaves, allowing us to see if there are any major trends in each month. </li>\n",
    " </ul>"
   ]
  },
  {
   "cell_type": "code",
   "execution_count": null,
   "metadata": {
    "_kg_hide-input": true,
    "_kg_hide-output": false,
    "_uuid": "d978eaac218d7fceaf9cbdf4c89677252404d228"
   },
   "outputs": [],
   "source": [
    "# Now there are other ways to see the trends by month\n",
    "options(repr.plot.width=8, repr.plot.height=6) \n",
    "\n",
    "\n",
    "monthly_conventional <- ggsubseriesplot(conv.price) +\n",
    "labs(title=\"Conventional Avocados\", x=\"Months\", y=\"Average Price\") + \n",
    "theme_economist() + theme(plot.title=element_text(hjust=0.5), plot.background=element_rect(fill=\"#FEF5C7\")) + \n",
    " annotate(\"text\", x = c(6), y = c(1.35), label = c(\"Upward trend \\n (June - October)\") , color=\"black\", size=2.5 , angle=360, fontface=\"bold\") + \n",
    "geom_segment(aes(x = c(6) , y = 1.3, xend = c(6.5), yend = 1.2), colour='#D6665E', size=1,arrow = arrow(length = unit(0.35, \"cm\")))\n",
    "\n",
    "monthly_organic <- ggsubseriesplot(org.price) +\n",
    "labs(title=\"Organic Avocados\", x=\"Months\", y=\"Average Price\") + \n",
    "theme_economist() + theme(plot.title=element_text(hjust=0.5), plot.background=element_rect(fill=\"#FEF5C7\")) + \n",
    " annotate(\"text\", x = c(6), y = c(1.85), label = c(\"Upward trend \\n (June - September)\") , color=\"black\", size=2.5 , angle=360, fontface=\"bold\") + \n",
    "geom_segment(aes(x = c(6) , y = 1.8, xend = c(6.5), yend = 1.7), colour='#D6665E', size=1,arrow = arrow(length = unit(0.35, \"cm\")))\n",
    "\n",
    "\n",
    "plot_grid(monthly_conventional, monthly_organic, nrow=2)"
   ]
  },
  {
   "cell_type": "markdown",
   "metadata": {
    "_uuid": "a1b13b690df5ba2a5e62f5ec5cc06bc971fcba51"
   },
   "source": [
    "<h3><b> Stationary Time Series: </b> </h3>\n",
    "<a id=\"stationary\"></a>\n",
    "<h4>Autocorrelations: </h4>\n",
    "<ul>\n",
    "    <li><b> What does the autocorrelation graph tells us?</b><br>\n",
    "        First of all, we have to understand the concept of <b> lags. </b> So what are lags? Think of lags as time intervals. In this case we think of lags as monthly time intervals. Now what is the main goal of autocorrelation? We would like to see if there is a linear relationship from the first lag (month). So we would like to see if there are certain patterns as opposed to the first month. The correlation at lag zero is always one because it correlated to itself. At lag one, we see that the correlation is <b> close to one </b>, this tells us that the correlation to the first month (lag 0) is similar, so the trend is highly correlated with month 1 (January).  </li>\n",
    "    \n",
    "<li><b> What can we conclude about the autocorrelation? </b></li>\n",
    "There is a high autocorrelation until the third lag (March), which tells us that there is a high linear relationship between these weeks with the first month. However, we see no linear relationship among the other months compared to the first month. So we can conclude, that there are no consistent patterns that will show any linear relationships with the prices shown in the first week for both conventional and organic avocados.  <br>\n",
    "</ul><br>\n",
    "\n",
    "<h3><b> Autocorrelation Formula:</b></h3>\n",
    "$ \\LARGE r_{k} = \\frac{\\sum\\limits_{t=k+1}^T (y_{t}-\\bar{y})(y_{t-k}-\\bar{y})}\n",
    " {\\sum\\limits_{t=1}^T (y_{t}-\\bar{y})^2}$\n",
    "    \n"
   ]
  },
  {
   "cell_type": "markdown",
   "metadata": {
    "_uuid": "656f4a09f16b88a5f268cf01f9b4e8805acd3201"
   },
   "source": [
    "<h3> Autocorrelations </h3>\n",
    "<a id=\"autocorrelation\"></a>\n",
    "Autocorrelations helps us determine if there are certain patterns in our data. So what is the main purpose of using Autocorrelations and how could it help us determine certain patterns in our time series dataset? First thing, the word \"Auto\" gives us a hint that we are planning to use an internal correlation. What does internal correlation mean? We basically are taking a specific date (in the example below we use January) and we want to see whether the price of avocados have some sort of correlation with the price of January. In the first visualization, lags are a representation of months. So we can see that the correlation is higher the closer the month is from January/ This means that the price of February are similar to the avocado prices of January. As the months pass by, the correlation as opposed to the month of January gets lower indicating to us that there are no specific patterns to the month of January. Price movements in those months except for February and March do not have highly correlated prices compared to the prices of January.\n",
    "\n",
    "<b> Reference for this section:</b> <br>\n",
    "https://people.maths.bris.ac.uk/~magpn/Research/LSTS/STSIntro.html\n",
    "\n"
   ]
  },
  {
   "cell_type": "code",
   "execution_count": null,
   "metadata": {
    "_kg_hide-input": true,
    "_uuid": "b7c3788a6f414d42b16b5157f2c8158f9392af57"
   },
   "outputs": [],
   "source": [
    "options(repr.plot.width=10, repr.plot.height=6)\n",
    "\n",
    "seasonality_trends_conv <- window(conv.price, start=2015)\n",
    "conv_plot_trends <- autoplot(seasonality_trends_conv) + theme_economist() + \n",
    "theme(plot.title=element_text(hjust=0.5, size=12), plot.background=element_rect(fill=\"#F4F6F7\")) + \n",
    "labs(x=\"Year\", y=\"Average Price\", title=\"Conventional Avocados\")\n",
    "\n",
    "autocoor_conv <- ggAcf(org.price, lag=12) + \n",
    "theme(plot.title=element_text(hjust=0.5, size=12), plot.background=element_rect(fill=\"#F4F6F7\")) + labs(title=\"Autocorrelation for \\n Conventional Avocados\")\n",
    "\n",
    "\n",
    "seasonality_trends_org <- window(org.price, start=2015)\n",
    "org_plot_trends <- autoplot(seasonality_trends_org) + theme_economist() + \n",
    "theme(plot.title=element_text(hjust=0.5, size=12), plot.background=element_rect(fill=\"#F4F6F7\")) + \n",
    "labs(x=\"Year\", y=\"Average Price\", title=\"Organic Avocados\")\n",
    "\n",
    "autocoor_org <- ggAcf(org.price, lag=12) + \n",
    "theme(plot.title=element_text(hjust=0.5, size=12), plot.background=element_rect(fill=\"#F4F6F7\")) + labs(title=\"Autocorrelation for \\n Organic Avocados\")\n",
    "\n",
    "plot_grid(conv_plot_trends, autocoor_conv, org_plot_trends, autocoor_org, ncol=2, nrow=2)"
   ]
  },
  {
   "cell_type": "markdown",
   "metadata": {
    "_uuid": "77fd60cf5819e6b731cbf4cb5cb1d32e4b180b36"
   },
   "source": [
    "<h3><b> Weekly Autocorrelations: </b></h3>"
   ]
  },
  {
   "cell_type": "code",
   "execution_count": null,
   "metadata": {
    "_kg_hide-input": true,
    "_uuid": "4899c8846eb9b4bc37ec5bd40071cec5952be19a"
   },
   "outputs": [],
   "source": [
    "options(repr.plot.width=10, repr.plot.height=6)\n",
    "\n",
    "# Let's get it by week the average price\n",
    "weekly_df <- original_df\n",
    "weekly_df$week <- format(as.Date(original_df$Date), \"%w\")\n",
    "\n",
    "conv.price.weekly <- weekly_df %>% select(type,year,AveragePrice) %>% filter(type == \"conventional\", year == c(\"2015\", \"2016\", \"2017\")) \n",
    "org.price.weekly <- weekly_df %>% select(type,year,AveragePrice) %>% filter(type == \"organic\", year == c(\"2015\", \"2016\", \"2017\")) \n",
    "\n",
    "\n",
    "weekly.conv.price <- ts(conv.price.weekly$AveragePrice, start=2015, frequency=12)\n",
    "weekly.org.price <- ts(org.price.weekly$AveragePrice, start=2015, frequency=12)\n",
    "\n",
    "\n",
    "\n",
    "weekly_trends_conv <- window(weekly.conv.price, start=2015)\n",
    "\n",
    "weekly_trends_org <- window(weekly.org.price, start=2015)\n",
    "\n",
    "conv_plot_weekly <- autoplot(weekly_trends_conv) + theme_economist() + \n",
    "theme(plot.title=element_text(hjust=0.5, size=12), plot.background=element_rect(fill=\"#FFF1E0\")) + \n",
    "labs(x=\"Time\", y=\"Average Price\", title=\"Conventional Avocados \\n (Weekly Time Series)\")\n",
    "\n",
    "org_plot_weekly <- autoplot(weekly_trends_org) + theme_economist() + \n",
    "theme(plot.title=element_text(hjust=0.5, size=12), plot.background=element_rect(fill=\"#FFF1E0\")) + \n",
    "labs(x=\"Time\", y=\"Average Price\", title=\"Organic Avocados \\n (Weekly Time Series)\")\n",
    "\n",
    "autocoor_conv <- ggAcf(weekly.conv.price, lag=156, fill=\"#48a4ff\") + theme_economist() + \n",
    "theme(plot.title=element_text(hjust=0.5, size=12), plot.background=element_rect(fill=\"#FFF1E0\")) + \n",
    "labs(title=\"Autocorrelations by Weekly Lags\")\n",
    "\n",
    "autocoor_org <- ggAcf(weekly.org.price, lag=156, fill=\"#48a4ff\") + theme_economist() + \n",
    "theme(plot.title=element_text(hjust=0.5, size=12), plot.background=element_rect(fill=\"#FFF1E0\")) + \n",
    "labs(title=\"Autocorrelations by Weekly Lags\")\n",
    "\n",
    "plot_grid(conv_plot_weekly, autocoor_conv,org_plot_weekly,  autocoor_org, ncol=2, nrow=2)"
   ]
  },
  {
   "cell_type": "markdown",
   "metadata": {
    "_uuid": "44d8172c22186a3a71777554dc06b9ad0b20f5d4"
   },
   "source": [
    "<h2>Various Forecasting Methods: </h2>\n",
    "<a id=\"methods\"></a>\n",
    "In this section we will use various models to come up with accurate predictions in order to see what will the upcoming patterns will be for avocado prices.<br><br>\n",
    "\n",
    "The list of models we will use include:\n",
    "<ul>\n",
    "    <li>Smoothing Moving Average </li>\n",
    "    <li>Seasonal Naive Method </li>\n",
    "    <li>Drift Method </li>\n",
    "    <li>ARIMA </li>\n",
    "    </ul>"
   ]
  },
  {
   "cell_type": "code",
   "execution_count": null,
   "metadata": {
    "_uuid": "fc60a5e61753a8fcf893534bbe4f2d8940d2eb6c"
   },
   "outputs": [],
   "source": [
    "\n",
    "# Using Smoothing average\n",
    "sma_conv <- sma(conventional$AveragePrice, h=10, silent=FALSE) + theme_economist()"
   ]
  },
  {
   "cell_type": "markdown",
   "metadata": {},
   "source": [
    "<h3>Using Naive and Drift Methods: </h3>\n",
    "Before explaining how these types of forecasting models work there are a couple of things that we must understand:\n",
    "<ul>\n",
    "    <li><b>Average Method: </b> This is just the average line of the last three years that we are analyzing. These years are 2015, 2016 and 2017. This will give us a fix value however, this value is important. When we talk about technical analysis, whenever prices go below the average line we are \"expected\" to see a downward trend. </li>\n",
    "    <li><b>Naive Method: </b> Is just setting all forecast values to the last value we saw. You can see that the blue line is at the same level of the last price in December. That explain why it is so low! Since the avocado price was so low for both conventional and organic avocados, this could have a similar functionality to a support line. If we see prices going below this line, it could indicate a new downward trend.</li>\n",
    "    <li><b>Seasonal Naive Method:</b> This will equal to the last value of the past year. So for instance if we are using monthly data, our forecast in january will be equivalent to the last January value of the year of 2018. </li>\n",
    "    <li><b>Drift Method: </b> This will better detect the pattern of prices since it will use the average change of the historical data as a point of reference when it comes to forecasting. It is most likely, that this forecast will understand the trend however, it will ignore any seasonality patterns. </li>\n",
    "    </ul>"
   ]
  },
  {
   "cell_type": "code",
   "execution_count": null,
   "metadata": {
    "_kg_hide-input": true
   },
   "outputs": [],
   "source": [
    "library(fpp2)\n",
    "\n",
    "\n",
    "# Let's declare our data as time series\n",
    "conv <- df %>% select(Date, AveragePrice, type) %>% filter(type == \"conventional\")\n",
    "org <- df %>% select(Date, AveragePrice, type) %>% filter(type == \"organic\")\n",
    "# Organic Avocados\n",
    "conventional <- as_tbl_time(conv, index=Date)\n",
    "conventional <- as_period(conventional, '1 month')\n",
    "conventional$type <- NULL\n",
    "# Organic Avocados\n",
    "organic <- as_tbl_time(org, index=Date)\n",
    "organic <- as_period(organic, '1 month')\n",
    "organic$type <- NULL\n",
    "\n",
    "conv_ts <- ts(conventional[,2], start=c(2015, 1), frequency=12)\n",
    "org_ts <- ts(organic[,2], start=c(2015, 1), frequency=12)\n",
    "# The difference from month to month\n",
    "# To remove the trend we take the first difference\n",
    "differences_conv <- diff(conv_ts)\n",
    "\n",
    "main_diff <- autoplot(differences_conv) + theme_minimal()\n",
    "\n",
    "seasonality_diff <- ggseasonplot(differences_conv) + theme_minimal()\n",
    "\n",
    "plot_grid(main_diff, seasonality_diff, nrow=2)"
   ]
  },
  {
   "cell_type": "code",
   "execution_count": null,
   "metadata": {
    "_kg_hide-input": true
   },
   "outputs": [],
   "source": [
    "# ARIMA Model\n",
    "# Y has trend unlike difference, it will take the difference behind the scenes d=1\n",
    "# Stepwise will only use some models instead of all possible combinations\n",
    "# approximation uses the model that approximates the best result to save time\n",
    "arima_model_cv <- auto.arima(conv_ts, d=1, D=1, stepwise=FALSE, approximation=FALSE, trace=TRUE)\n",
    "arima_model_or <- auto.arima(org_ts, d=1, D=1, stepwise=FALSE, approximation=FALSE, trace=TRUE)\n",
    "\n",
    "\n",
    "print(summary(arima_model_cv))\n",
    "checkresiduals(arima_model_cv) + theme_minimal()"
   ]
  },
  {
   "cell_type": "code",
   "execution_count": null,
   "metadata": {
    "_kg_hide-input": true
   },
   "outputs": [],
   "source": [
    "options(repr.plot.width=10, repr.plot.height=7)\n",
    "\n",
    "conv_forecast_sn <- autoplot(conv_ts) +\n",
    "  autolayer(meanf(conv_ts, h=24),\n",
    "    series=\"Mean\", PI=FALSE) +\n",
    "  autolayer(naive(conv_ts, h=24),\n",
    "    series=\"Naïve\", PI=FALSE) +\n",
    "  autolayer(snaive(conv_ts, h=24),\n",
    "    series=\"Seasonal naïve\", PI=FALSE) +\n",
    "  ggtitle(\"Conventional Avocado \\n Seasonal Naive Method\") +\n",
    "  xlab(\"Date\") + ylab(\"Price\") + scale_color_manual(values=c(\"#FA5858\", \"#00BFFF\", \"#FF8000\")) + \n",
    "  guides(colour=guide_legend(title=\"Forecast\"))  + theme_economist() + \n",
    "theme(plot.title=element_text(hjust=0.5), plot.background=element_rect(fill=\"#F4F6F7\"))\n",
    "\n",
    "org_forecast_sn <- autoplot(org_ts) +\n",
    "  autolayer(meanf(org_ts, h=24),\n",
    "    series=\"Mean\", PI=FALSE) +\n",
    "  autolayer(naive(org_ts, h=24),\n",
    "    series=\"Naïve\", PI=FALSE) +\n",
    "  autolayer(snaive(org_ts, h=24),\n",
    "    series=\"Seasonal naïve\", PI=FALSE) +\n",
    "  ggtitle(\"Organic Avocado \\n Seasonal Naive Method\") +\n",
    "  xlab(\"Date\") + ylab(\"Price\") + scale_color_manual(values=c(\"#FA5858\", \"#00BFFF\", \"#FF8000\")) + \n",
    "  guides(colour=guide_legend(title=\"Forecast\"))  + theme_economist() + \n",
    "theme(plot.title=element_text(hjust=0.5), plot.background=element_rect(fill=\"#DCFCE6\"), legend.position=\"none\")\n",
    "\n",
    "\n",
    "plot_grid(conv_forecast_sn, org_forecast_sn, nrow=2)"
   ]
  },
  {
   "cell_type": "code",
   "execution_count": null,
   "metadata": {
    "_kg_hide-input": true
   },
   "outputs": [],
   "source": [
    "conv_forecast_dr <- autoplot(conv_ts) +\n",
    "  autolayer(meanf(conv_ts, h=24),\n",
    "    series=\"Mean\", PI=FALSE) +\n",
    "  autolayer(naive(conv_ts, h=24),\n",
    "    series=\"Naïve\", PI=FALSE) +\n",
    "  autolayer(rwf(conv_ts, drift=TRUE, h=24),\n",
    "    series=\"Drift\", PI=FALSE) +\n",
    "  ggtitle(\"Conventional Avocado \\n Drift Method\") +\n",
    "  xlab(\"Date\") + ylab(\"Price\") + scale_color_manual(values=c(\"#ffff24\", \"#98fb98\", \"#ff6347\")) + \n",
    "  guides(colour=guide_legend(title=\"Forecast\"))  + theme_economist() + \n",
    "theme(plot.title=element_text(hjust=0.5), plot.background=element_rect(fill=\"#F4F6F7\"))\n",
    "\n",
    "org_forecast_dr <- autoplot(org_ts) +\n",
    "  autolayer(meanf(org_ts, h=24),\n",
    "    series=\"Mean\", PI=FALSE) +\n",
    "  autolayer(rwf(org_ts, h=24),\n",
    "    series=\"Naïve\", PI=FALSE) +\n",
    "  autolayer(rwf(org_ts, drift=TRUE, h=24),\n",
    "    series=\"Drift\", PI=FALSE) +\n",
    "  ggtitle(\"Organic Avocado \\n Drift Method\") +\n",
    "  xlab(\"Date\") + ylab(\"Price\") + scale_color_manual(values=c(\"#ffff24\", \"#98fb98\", \"#ff6347\")) + \n",
    "  guides(colour=guide_legend(title=\"Forecast\"))  + theme_economist() + \n",
    "theme(plot.title=element_text(hjust=0.5), plot.background=element_rect(fill=\"#DCFCE6\"), legend.position=\"none\")\n",
    "\n",
    "plot_grid(conv_forecast_dr, org_forecast_dr, nrow=2)"
   ]
  },
  {
   "cell_type": "markdown",
   "metadata": {},
   "source": [
    "<h3>Understanding Residuals: </h3>\n",
    "<a id=\"residuals\"></a>\n",
    "Residuals is not only used to understand the difference ebtween our forecast model and actual values, it also tells us some potential for \"abnormal\" movements during certain period. Let's explore the charts below for both conventional and organic avocados. Here are my findings: <br>\n",
    "<ul>\n",
    "    <li><b>Conventional Avocados: </b> There are two abnormal peaks in the conventional avocados chart. This might indicate abnormal movements in prices that could indicate that this was due to some extraordinary event. </li>\n",
    "    <li><b> Organic Avocados: </b> We see some peaks in organic avocados but not to the extent of conventional avocados. Nevertheless, there are some abnormal peaks that should be further evaluated. </li>\n",
    "    </ul>"
   ]
  },
  {
   "cell_type": "code",
   "execution_count": null,
   "metadata": {
    "_kg_hide-input": true
   },
   "outputs": [],
   "source": [
    "rescv_nv <- residuals(naive(conv_ts))\n",
    "p1 <- autoplot(rescv_nv, color=\"#b6ff6c\") + xlab(\"Day\") + ylab(\"\") +\n",
    "  ggtitle(\"Residuals from naïve method \\n Conventional Avocados\") + theme_economist() +\n",
    "theme(plot.title=element_text(hjust=0.5, color=\"white\"), plot.background=element_rect(fill=\"#0D7680\"),  \n",
    "      axis.text.x=element_text(colour=\"white\"), axis.text.y=element_text(colour=\"white\"),\n",
    "                                                        axis.title=element_text(colour=\"white\"))\n",
    "\n",
    "\n",
    "resorg_nv <- residuals(naive(org_ts))\n",
    "p2 <- autoplot(resorg_nv, color=\"#ffee6c\") + xlab(\"Day\") + ylab(\"\") +\n",
    "  ggtitle(\"Residuals from naïve method \\n Organic Avocados\") + theme_economist() + \n",
    "theme(plot.title=element_text(hjust=0.5, color=\"white\"), plot.background=element_rect(fill=\"#0D7680\"), \n",
    "      axis.text.x=element_text(colour=\"white\"), axis.text.y=element_text(colour=\"white\"),\n",
    "                                                        axis.title=element_text(colour=\"white\"))\n",
    "\n",
    "plot_grid(p1, p2, nrow=2)"
   ]
  },
  {
   "cell_type": "markdown",
   "metadata": {},
   "source": [
    "<h3>Understanding ARIMA Model:</h3>\n",
    "<a id=\"ARIMA\"></a>\n",
    "<ul>\n",
    "    <li><b>Auto Regressive (AR):</b> Means that past time points could have a certain degree of current and future time observations. The ARIMA model takes into account lagged observations in order to come up with forecast observations. A weight is added to past observations however, the weight can vary on how recent the past observations are. The more recent, the more weight is added to the most recent past observation. </li>\n",
    "    <li><b>Integrated (I):</b> If there are consistent trends in the movement of past prices, it is most likely to be non-stationary meaning that seasonality persists in past movement of prices. Integrated removes the seasonality phase of our dataset in case there are consistent patterns that show that this is the case. The degree of differencing available in ARIMA models eliminates the seasonality trend issue. </li>\n",
    "    <li><b>Moving Average (MA): </b> Moving average helps remove the effect of random movements of avocado prices in our case. If there was an extraordinary event that led to a surge in avocado prices, moving average will help us \"smooth\" things up and our time series model will not be prone to these fluctuations. </li>\n",
    "    </ul>"
   ]
  },
  {
   "cell_type": "code",
   "execution_count": null,
   "metadata": {
    "_kg_hide-input": true
   },
   "outputs": [],
   "source": [
    "sqrt(0.05354)\n",
    "\n",
    "forecast_cv <- forecast(arima_model_cv, h=24)\n",
    "# Include means including the last 60 months in order to see closer the forecast.\n",
    "autoplot(forecast_cv, include=60) + theme_minimal() + theme(plot.title=element_text(hjust=0.5), plot.background=element_rect(fill=\"#F4F6F7\"),\n",
    "      legend.position=\"bottom\", legend.background = element_rect(fill=\"#FFF9F5\",\n",
    "                                  size=0.5, linetype=\"solid\", \n",
    "                                  colour =\"black\")) + \n",
    "labs(title=\"Forecasting using ARIMA model \\n Conventional Avocados\", x=\"Date\", y=\"Price\")"
   ]
  },
  {
   "cell_type": "code",
   "execution_count": null,
   "metadata": {
    "_kg_hide-input": true
   },
   "outputs": [],
   "source": [
    "print(summary(forecast_cv))"
   ]
  },
  {
   "cell_type": "code",
   "execution_count": null,
   "metadata": {
    "_kg_hide-input": true
   },
   "outputs": [],
   "source": [
    "forecast_org <- forecast(arima_model_or, h=24)\n",
    "# Include means including the last 60 months in order to see closer the forecast.\n",
    "autoplot(forecast_org, include=60) + theme_minimal() + theme(plot.title=element_text(hjust=0.5), plot.background=element_rect(fill=\"#d0f0c0\"),\n",
    "      legend.position=\"bottom\", legend.background = element_rect(fill=\"#fffacd\",\n",
    "                                  size=0.5, linetype=\"solid\", \n",
    "                                  colour =\"black\")) + \n",
    "labs(title=\"Forecasting using ARIMA model \\n Organic Avocados\", x=\"Date\", y=\"Price\")"
   ]
  },
  {
   "cell_type": "code",
   "execution_count": null,
   "metadata": {
    "_kg_hide-input": true
   },
   "outputs": [],
   "source": [
    "print(summary(forecast_org))"
   ]
  },
  {
   "cell_type": "markdown",
   "metadata": {},
   "source": [
    "Reference:\n",
    "<ul>\n",
    "    <li><a href=\"https://www.youtube.com/watch?v=dBNy_A6ZpccTime\">Time Series Forecasting Example in RStudio</a> </li>"
   ]
  },
  {
   "cell_type": "markdown",
   "metadata": {},
   "source": []
  },
  {
   "cell_type": "markdown",
   "metadata": {},
   "source": [
    "### Conclusion:\n",
    "<a id=\"conclusion\"></a>\n",
    "When it comes to to the analysis we have implemented there are several observations we have observed:<br>\n",
    "<ul>\n",
    "    <li><b>Expensive Organic Avocados:</b> As expected, we have noticed that organic avocados are much more expensive than conventional avocados. </li>\n",
    "    <li><b> Similar patterns by type: </b> There are some distinguishable patterns between the two types of avocados however, we see that most patterns are similar between these two types of avocados. </li>\n",
    "    <li><b>Year 2017: </b> The year of 2017 was the best year of avocados. One of the factors that could have contributed was the well being of the economy as a whole but there could also be other hidden factors that could affect avocado prices in the market. </li>\n",
    "    <li><b>Volatility: </b> Although, 2017 was the year with the highest prices, it was also the year with the highest volatility. This means that price fluctuations were higher in this year as oppose to the past two years. </li>\n",
    "    <li><b>Buy avocados before fall!: </b> We see a consistent pattern of avocado prices increasing when fall is coming. This applies to both conventional and organic avocados. </li>\n",
    "    <li><b>Downward trend in the longrun: </b> Based on our ARIMA model, for both types of avocados we expect a downward trend in prices at least in the longrun. There could be some upward pressure in the short run however, our model predicts that both avocado prices will o downwards 2 years from now. </li>\n",
    "    </ul>"
   ]
  },
  {
   "cell_type": "markdown",
   "metadata": {},
   "source": [
    "<b>Note from the author: </b> There is lots of other things to explore when it comes to time series forecasting. This is just a brief overview of how to use forecasting for our own benefit. I plan to come up with more in-depth projects regarding time series forecasting nevertheless, I hope you all enjoy this kernel. Have a great day guys and remember always keep on learning!"
   ]
  }
 ],
 "metadata": {
  "kernelspec": {
   "display_name": "R",
   "language": "R",
   "name": "ir"
  },
  "language_info": {
   "codemirror_mode": "r",
   "file_extension": ".r",
   "mimetype": "text/x-r-source",
   "name": "R",
   "pygments_lexer": "r",
   "version": "3.6.2"
  }
 },
 "nbformat": 4,
 "nbformat_minor": 4
}
